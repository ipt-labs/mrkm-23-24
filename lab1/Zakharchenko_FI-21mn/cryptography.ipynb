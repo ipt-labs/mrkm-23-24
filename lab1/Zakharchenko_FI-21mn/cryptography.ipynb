{
 "cells": [
  {
   "cell_type": "code",
   "execution_count": 63,
   "id": "2b7961c0-5ac2-488a-926f-0ada12902785",
   "metadata": {},
   "outputs": [],
   "source": [
    "import time\n",
    "\n",
    "from cryptography.hazmat.primitives.asymmetric import rsa, padding\n",
    "from cryptography.hazmat.primitives import hashes\n",
    "\n",
    "N = 100\n",
    "BITS = 2048\n",
    "EXAMPLE_TEXT_128_bytes = \"\"\"\\\n",
    "04cQbT3Il6ZxyJpO0QHoh6l7OE2RILAyTq7b2R0Cl0pUX4CgNv0nyd96wH5Rvp0yoYbb6Se8BZOcQKDRQVKhRe3LOG3VDHasECIYYYFs6BpMWDVjrdjswkjyDc8XVdbz\\\n",
    "\"\"\""
   ]
  },
  {
   "cell_type": "code",
   "execution_count": 64,
   "id": "ae7cfde8-86e7-488d-9d82-02459c2865b9",
   "metadata": {},
   "outputs": [],
   "source": [
    "def generate_rsa_keys(bits):\n",
    "    private_key = rsa.generate_private_key(\n",
    "        public_exponent=65537,\n",
    "        key_size=bits\n",
    "    )\n",
    "    public_key = private_key.public_key()\n",
    "    return private_key, public_key\n",
    "\n",
    "\n",
    "def encrypt_message(message, public_key):\n",
    "    encrypted = public_key.encrypt(\n",
    "        message.encode(),\n",
    "        padding.OAEP(\n",
    "            mgf=padding.MGF1(algorithm=hashes.SHA256()),\n",
    "            algorithm=hashes.SHA256(),\n",
    "            label=None\n",
    "        )\n",
    "    )\n",
    "    return encrypted\n",
    "\n",
    "\n",
    "def decrypt_message(encrypted_message, private_key):\n",
    "    decrypted = private_key.decrypt(\n",
    "        encrypted_message,\n",
    "        padding.OAEP(\n",
    "            mgf=padding.MGF1(algorithm=hashes.SHA256()),\n",
    "            algorithm=hashes.SHA256(),\n",
    "            label=None\n",
    "        )\n",
    "    )\n",
    "    return decrypted.decode()\n",
    "\n",
    "\n",
    "def measure_performance():\n",
    "    print(\"Keys generating\")\n",
    "    start_time = time.time()\n",
    "    keys = [generate_rsa_keys(BITS) for _ in range(N)]\n",
    "    key_gen_time = time.time() - start_time\n",
    "    \n",
    "    print(f\"Time to generate {N} keys: {key_gen_time:.3f} sec\")\n",
    "    print(f\"Average time to generate 1 key: {key_gen_time / N:.3f} sec\\n\")\n",
    "\n",
    "    print(\"Encryption\")\n",
    "    start_time = time.time()\n",
    "    encrypted_messages = [encrypt_message(EXAMPLE_TEXT_128_bytes, public_key) for _, public_key in keys]\n",
    "    encryption_time = time.time() - start_time\n",
    "    \n",
    "    print(f\"Time to encrypt {N} messages: {encryption_time:.3f} sec\")\n",
    "    print(f\"Average time to encrypt 1 message: {encryption_time / N:.5f} sec\\n\")\n",
    "\n",
    "    print(\"Decryption\")\n",
    "    start_time = time.time()\n",
    "    decrypted_messages = [decrypt_message(encrypted_message, private_key) \n",
    "                          for encrypted_message, (private_key, _) in zip(encrypted_messages, keys)]\n",
    "    decryption_time = time.time() - start_time\n",
    "    \n",
    "    print(f\"Time to decrypt {N} messages: {decryption_time:.3f} sec\")\n",
    "    print(f\"Average time to decrypt 1 message: {decryption_time / N:.3f} sec\\n\")\n",
    "\n",
    "    ans = list(set(decrypted_messages))\n",
    "    if len(ans) == 1 and ans[0] == EXAMPLE_TEXT_128_bytes:\n",
    "        print(f\"All messages were decrypted correctly\")\n",
    "    else:\n",
    "        print(f\"Some messages weren't decrypted correctly\")"
   ]
  },
  {
   "cell_type": "code",
   "execution_count": 65,
   "id": "82979507-02fd-4e4f-93a0-ebede620da41",
   "metadata": {},
   "outputs": [
    {
     "name": "stdout",
     "output_type": "stream",
     "text": [
      "Keys generating\n",
      "Time to generate 100 keys: 5.353 sec\n",
      "Average time to generate 1 key: 0.054 sec\n",
      "\n",
      "Encryption\n",
      "Time to encrypt 100 messages: 0.006 sec\n",
      "Average time to encrypt 1 message: 0.00006 sec\n",
      "\n",
      "Decryption\n",
      "Time to decrypt 100 messages: 0.143 sec\n",
      "Average time to decrypt 1 message: 0.001 sec\n",
      "\n",
      "All messages were decrypted correctly\n"
     ]
    }
   ],
   "source": [
    "measure_performance()"
   ]
  },
  {
   "cell_type": "code",
   "execution_count": null,
   "id": "2a9b21d9-7d1d-4df3-a286-2dca4aab9b9a",
   "metadata": {},
   "outputs": [],
   "source": []
  }
 ],
 "metadata": {
  "kernelspec": {
   "display_name": "crypto",
   "language": "python",
   "name": "crypto"
  },
  "language_info": {
   "codemirror_mode": {
    "name": "ipython",
    "version": 3
   },
   "file_extension": ".py",
   "mimetype": "text/x-python",
   "name": "python",
   "nbconvert_exporter": "python",
   "pygments_lexer": "ipython3",
   "version": "3.10.12"
  }
 },
 "nbformat": 4,
 "nbformat_minor": 5
}
