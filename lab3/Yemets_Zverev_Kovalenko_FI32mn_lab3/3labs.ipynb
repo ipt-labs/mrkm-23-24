{
  "cells": [
    {
      "cell_type": "code",
      "execution_count": 27,
      "metadata": {
        "colab": {
          "base_uri": "https://localhost:8080/"
        },
        "id": "6BlPTRsp0KJD",
        "outputId": "4896ca57-d7a1-4057-af31-23f198482fad"
      },
      "outputs": [
        {
          "name": "stdout",
          "output_type": "stream",
          "text": [
            "Час розподілу ключа за допомогою ECC: 0.0009086132049560547 сек\n",
            "Час розподілу ключа за допомогою RSA: 0.04292178153991699 сек\n",
            "Розмір зашифрованого ключа за допомогою ECC: 103 байт\n",
            "Розмір зашифрованого ключа за допомогою RSA: 288 байт\n"
          ]
        }
      ],
      "source": [
        "from cryptography.hazmat.primitives.asymmetric import ec, rsa, padding\n",
        "from cryptography.hazmat.primitives import serialization, hashes\n",
        "import os\n",
        "import time\n",
        "\n",
        "# Генерація ECC ключів\n",
        "def generate_ecc_key():\n",
        "    private_key = ec.generate_private_key(\n",
        "        ec.SECP256R1(),\n",
        "        backend=None\n",
        "    )\n",
        "    return private_key\n",
        "\n",
        "# Генерація RSA ключів\n",
        "def generate_rsa_key():\n",
        "    private_key = rsa.generate_private_key(\n",
        "        public_exponent=65537,\n",
        "        key_size=2048,\n",
        "        backend=None\n",
        "    )\n",
        "    return private_key\n",
        "\n",
        "# Генерація симетричного ключа\n",
        "def generate_symmetric_key():\n",
        "    secret_key = os.urandom(32)  # 256 біт\n",
        "    return secret_key\n",
        "\n",
        "# Підпис симетричного ключа за допомогою ECC\n",
        "def sign_symmetric_key_ecc(secret_key, private_key):\n",
        "    signature = private_key.sign(\n",
        "        secret_key,\n",
        "        ec.ECDSA(hashes.SHA256())\n",
        "    )\n",
        "    return signature\n",
        "\n",
        "\n",
        "# Розподіл симетричного ключа за допомогою ECC\n",
        "def distribute_key_ecc():\n",
        "    private_key = generate_ecc_key()\n",
        "    public_key = private_key.public_key()\n",
        "\n",
        "    # Генеруємо симетричний ключ\n",
        "    secret_key = generate_symmetric_key()\n",
        "\n",
        "    # Підписуємо симетричний ключ з використанням приватного ключа ECC\n",
        "    signature = sign_symmetric_key_ecc(secret_key, private_key)\n",
        "\n",
        "    # Зашифровуємо секретний ключ разом з підписом, використовуючи ECC\n",
        "    encrypted_key = secret_key + signature\n",
        "\n",
        "    return secret_key, encrypted_key\n",
        "\n",
        "# Розподіл симетричного ключа за допомогою RSA\n",
        "def distribute_key_rsa():\n",
        "    private_key = generate_rsa_key()\n",
        "    public_key = private_key.public_key()\n",
        "\n",
        "    # Генеруємо симетричний ключ\n",
        "    secret_key = generate_symmetric_key()\n",
        "\n",
        "    # Підписуємо симетричний ключ з використанням приватного ключа RSA\n",
        "    signature = private_key.sign(\n",
        "        secret_key,\n",
        "        padding.PKCS1v15(),\n",
        "        hashes.SHA256()\n",
        "    )\n",
        "\n",
        "    # Зашифровуємо секретний ключ разом з підписом, використовуючи RSA\n",
        "    encrypted_key = secret_key + signature\n",
        "\n",
        "    return secret_key, encrypted_key\n",
        "\n",
        "# Порівняння часу розподілу ключів для ECC та RSA\n",
        "start_time = time.time()\n",
        "ecc_secret_key, ecc_encrypted_key = distribute_key_ecc()\n",
        "ecc_time = time.time() - start_time\n",
        "\n",
        "start_time = time.time()\n",
        "rsa_secret_key, rsa_encrypted_key = distribute_key_rsa()\n",
        "rsa_time = time.time() - start_time\n",
        "\n",
        "print(\"Час розподілу ключа за допомогою ECC:\", ecc_time, \"сек\")\n",
        "print(\"Час розподілу ключа за допомогою RSA:\", rsa_time, \"сек\")\n",
        "print(\"Розмір зашифрованого ключа за допомогою ECC:\", len(ecc_encrypted_key), \"байт\")\n",
        "print(\"Розмір зашифрованого ключа за допомогою RSA:\", len(rsa_encrypted_key), \"байт\")\n",
        "\n"
      ]
    }
  ],
  "metadata": {
    "colab": {
      "provenance": []
    },
    "kernelspec": {
      "display_name": "Python 3",
      "name": "python3"
    },
    "language_info": {
      "name": "python"
    }
  },
  "nbformat": 4,
  "nbformat_minor": 0
}
